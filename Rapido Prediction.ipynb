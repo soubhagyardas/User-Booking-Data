{
 "cells": [
  {
   "cell_type": "markdown",
   "metadata": {},
   "source": [
    "### Predicting next booking latitude with the help of pickle file created"
   ]
  },
  {
   "cell_type": "code",
   "execution_count": 1,
   "metadata": {},
   "outputs": [],
   "source": [
    "import pickle\n",
    "\n",
    "with open('model_1.pkl', 'rb') as handle:\n",
    "    my_model = pickle.load(handle)"
   ]
  },
  {
   "cell_type": "markdown",
   "metadata": {},
   "source": [
    "## Creating a prediction function"
   ]
  },
  {
   "cell_type": "code",
   "execution_count": 2,
   "metadata": {},
   "outputs": [],
   "source": [
    "def predict_next_booking_lat(users = []):\n",
    "    \"\"\"\n",
    "    A function that takes users list and return next booking lat\n",
    "    Arguments:\n",
    "    users - int list, default = []\n",
    "    \"\"\"\n",
    "    predictions = []\n",
    "    \n",
    "    for each_user in users:\n",
    "        try:\n",
    "            each_user = int(each_user)\n",
    "            predictions.append(my_model[each_user])\n",
    "            \n",
    "        except ValueError:\n",
    "            predictions.append(\"Invalid\")\n",
    "        \n",
    "        except KeyError:\n",
    "            predictions.append(\"New User\")\n",
    "            \n",
    "    return predictions"
   ]
  },
  {
   "cell_type": "code",
   "execution_count": 3,
   "metadata": {},
   "outputs": [
    {
     "data": {
      "text/plain": [
       "[12.92, 12.955, 'Invalid', 'New User']"
      ]
     },
     "execution_count": 3,
     "metadata": {},
     "output_type": "execute_result"
    }
   ],
   "source": [
    "predict_next_booking_lat([1,2, \"Lucky\", 88744584])"
   ]
  },
  {
   "cell_type": "code",
   "execution_count": 4,
   "metadata": {},
   "outputs": [
    {
     "data": {
      "text/plain": [
       "[12.92, 12.955, 12.314, 'New User']"
      ]
     },
     "execution_count": 4,
     "metadata": {},
     "output_type": "execute_result"
    }
   ],
   "source": [
    "predict_next_booking_lat([1,2, 14626, 88744584])"
   ]
  },
  {
   "cell_type": "code",
   "execution_count": null,
   "metadata": {},
   "outputs": [],
   "source": []
  }
 ],
 "metadata": {
  "kernelspec": {
   "display_name": "Python 3",
   "language": "python",
   "name": "python3"
  },
  "language_info": {
   "codemirror_mode": {
    "name": "ipython",
    "version": 3
   },
   "file_extension": ".py",
   "mimetype": "text/x-python",
   "name": "python",
   "nbconvert_exporter": "python",
   "pygments_lexer": "ipython3",
   "version": "3.7.3"
  }
 },
 "nbformat": 4,
 "nbformat_minor": 2
}
